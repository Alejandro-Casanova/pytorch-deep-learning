{
  "nbformat": 4,
  "nbformat_minor": 0,
  "metadata": {
    "colab": {
      "provenance": [],
      "include_colab_link": true
    },
    "kernelspec": {
      "name": "python3",
      "display_name": "Python 3"
    },
    "language_info": {
      "name": "python"
    },
    "accelerator": "GPU"
  },
  "cells": [
    {
      "cell_type": "markdown",
      "metadata": {
        "id": "view-in-github",
        "colab_type": "text"
      },
      "source": [
        "<a href=\"https://colab.research.google.com/github/Alejandro-Casanova/pytorch-deep-learning/blob/main/main/extras/exercises/05_pytorch_going_modular_exercise_template.ipynb\" target=\"_parent\"><img src=\"https://colab.research.google.com/assets/colab-badge.svg\" alt=\"Open In Colab\"/></a>"
      ]
    },
    {
      "cell_type": "markdown",
      "source": [
        "# 05. PyTorch Going Modular Exercises\n",
        "\n",
        "Welcome to the 05. PyTorch Going Modular exercise template notebook.\n",
        "\n",
        "There are several questions in this notebook and it's your goal to answer them by writing Python and PyTorch code.\n",
        "\n",
        "> **Note:** There may be more than one solution to each of the exercises, don't worry too much about the *exact* right answer. Try to write some code that works first and then improve it if you can.\n",
        "\n",
        "## Resources and solutions\n",
        "\n",
        "* These exercises/solutions are based on [section 05. PyTorch Going Modular](https://www.learnpytorch.io/05_pytorch_going_modular/) of the Learn PyTorch for Deep Learning course by Zero to Mastery.\n",
        "\n",
        "**Solutions:**\n",
        "\n",
        "Try to complete the code below *before* looking at these.\n",
        "\n",
        "* See a live [walkthrough of the solutions (errors and all) on YouTube](https://youtu.be/ijgFhMK3pp4).\n",
        "* See an example [solutions notebook for these exercises on GitHub](https://github.com/mrdbourke/pytorch-deep-learning/blob/main/extras/solutions/05_pytorch_going_modular_exercise_solutions.ipynb)."
      ],
      "metadata": {
        "id": "zNqPNlYylluR"
      }
    },
    {
      "cell_type": "markdown",
      "source": [
        "## 1. Turn the code to get the data (from section 1. Get Data) into a Python script, such as `get_data.py`.\n",
        "\n",
        "* When you run the script using `python get_data.py` it should check if the data already exists and skip downloading if it does.\n",
        "* If the data download is successful, you should be able to access the `pizza_steak_sushi` images from the `data` directory."
      ],
      "metadata": {
        "id": "bicbWSrPmfTU"
      }
    },
    {
      "cell_type": "code",
      "source": [
        "%%writefile get_data.py\n",
        "# YOUR CODE HERE\n",
        "import os\n",
        "import requests\n",
        "import zipfile\n",
        "from pathlib import Path\n",
        "\n",
        "# Setup path to data folder\n",
        "data_path = Path(\"data/\")\n",
        "image_path = data_path / \"pizza_steak_sushi\"\n",
        "train_path = image_path / \"train\"\n",
        "test_path = image_path / \"test\"\n",
        "\n",
        "def download_data():\n",
        "  # If the image folder doesn't exist, download it and prepare it...\n",
        "  if image_path.is_dir():\n",
        "      print(f\"{image_path} directory exists.\")\n",
        "      if train_path.is_dir() and test_path.is_dir():\n",
        "        print(\"Data already downloaded and unzipped, exiting...\")\n",
        "        return\n",
        "  else:\n",
        "      print(f\"Did not find {image_path} directory, creating one...\")\n",
        "      image_path.mkdir(parents=True, exist_ok=True)\n",
        "\n",
        "  zip_path = data_path / \"pizza_steak_sushi.zip\"\n",
        "  # Download pizza, steak, sushi data\n",
        "  with open(zip_path, \"wb\") as f:\n",
        "      request = requests.get(\"https://github.com/mrdbourke/pytorch-deep-learning/raw/main/data/pizza_steak_sushi.zip\")\n",
        "      print(\"Downloading pizza, steak, sushi data...\")\n",
        "      f.write(request.content)\n",
        "\n",
        "  # Unzip pizza, steak, sushi data\n",
        "  with zipfile.ZipFile(data_path / \"pizza_steak_sushi.zip\", \"r\") as zip_ref:\n",
        "      print(\"Unzipping pizza, steak, sushi data...\")\n",
        "      zip_ref.extractall(image_path)\n",
        "\n",
        "  # Remove zip file\n",
        "  os.remove(data_path / \"pizza_steak_sushi.zip\")\n",
        "\n",
        "download_data()"
      ],
      "metadata": {
        "id": "r0BCn1XIYZ8c",
        "colab": {
          "base_uri": "https://localhost:8080/"
        },
        "outputId": "9dd76d25-4905-4d56-eec7-af5ee8257189"
      },
      "execution_count": 17,
      "outputs": [
        {
          "output_type": "stream",
          "name": "stdout",
          "text": [
            "Overwriting get_data.py\n"
          ]
        }
      ]
    },
    {
      "cell_type": "code",
      "source": [
        "# Example running of get_data.py\n",
        "!python get_data.py"
      ],
      "metadata": {
        "id": "_LrUOIC-YOP9",
        "colab": {
          "base_uri": "https://localhost:8080/"
        },
        "outputId": "cf162822-fa5f-48a1-c556-3f59a129f359"
      },
      "execution_count": 18,
      "outputs": [
        {
          "output_type": "stream",
          "name": "stdout",
          "text": [
            "data/pizza_steak_sushi directory exists.\n",
            "Data already downloaded and unzipped, exiting...\n"
          ]
        }
      ]
    },
    {
      "cell_type": "markdown",
      "source": [
        "## 2. Use [Python's `argparse` module](https://docs.python.org/3/library/argparse.html) to be able to send the `train.py` custom hyperparameter values for training procedures.\n",
        "* Add an argument flag for using a different:\n",
        "  * Training/testing directory\n",
        "  * Learning rate\n",
        "  * Batch size\n",
        "  * Number of epochs to train for\n",
        "  * Number of hidden units in the TinyVGG model\n",
        "    * Keep the default values for each of the above arguments as what they already are (as in notebook 05).\n",
        "* For example, you should be able to run something similar to the following line to train a TinyVGG model with a learning rate of 0.003 and a batch size of 64 for 20 epochs: `python train.py --learning_rate 0.003 batch_size 64 num_epochs 20`.\n",
        "* **Note:** Since `train.py` leverages the other scripts we created in section 05, such as, `model_builder.py`, `utils.py` and `engine.py`, you'll have to make sure they're available to use too. You can find these in the [`going_modular` folder on the course GitHub](https://github.com/mrdbourke/pytorch-deep-learning/tree/main/going_modular/going_modular)."
      ],
      "metadata": {
        "id": "zjyn7LU3mvkR"
      }
    },
    {
      "cell_type": "code",
      "source": [
        "import requests\n",
        "from pathlib import Path\n",
        "\n",
        "script1 = \"model_builder.py\"\n",
        "script1_raw_url = \"https://raw.githubusercontent.com/Alejandro-Casanova/pytorch-deep-learning/main/going_modular/going_modular/model_builder.py\"\n",
        "script2 = \"utils.py\"\n",
        "script2_raw_url = \"https://raw.githubusercontent.com/Alejandro-Casanova/pytorch-deep-learning/main/going_modular/going_modular/utils.py\"\n",
        "script3 = \"engine.py\"\n",
        "script3_raw_url = \"https://raw.githubusercontent.com/Alejandro-Casanova/pytorch-deep-learning/main/going_modular/going_modular/engine.py\"\n",
        "script4 = \"data_setup.py\"\n",
        "script4_raw_url = \"https://raw.githubusercontent.com/Alejandro-Casanova/pytorch-deep-learning/main/going_modular/going_modular/data_setup.py\"\n",
        "\n",
        "def downloadScript(name: str, raw_url: str):\n",
        "  # Download helper functions from Learn PyTorch repo (if not already downloaded)\n",
        "  if Path(name).is_file():\n",
        "    print(f\"{name} already exists, skipping download\")\n",
        "  else:\n",
        "    print(f\"Downloading {name}\")\n",
        "    # Note: you need the \"raw\" GitHub URL for this to work\n",
        "    request = requests.get(raw_url)\n",
        "    with open(name, \"wb\") as f:\n",
        "      f.write(request.content)\n",
        "\n",
        "\n",
        "downloadScript(script1, script1_raw_url)\n",
        "downloadScript(script2, script2_raw_url)\n",
        "downloadScript(script3, script3_raw_url)\n",
        "downloadScript(script4, script4_raw_url)"
      ],
      "metadata": {
        "colab": {
          "base_uri": "https://localhost:8080/"
        },
        "id": "3Cmk4OFyv3eA",
        "outputId": "6d51de14-106e-4d7e-dc44-bfa2bffab38b"
      },
      "execution_count": 32,
      "outputs": [
        {
          "output_type": "stream",
          "name": "stdout",
          "text": [
            "model_builder.py already exists, skipping download\n",
            "utils.py already exists, skipping download\n",
            "engine.py already exists, skipping download\n",
            "Downloading data_setup.py\n"
          ]
        }
      ]
    },
    {
      "cell_type": "code",
      "source": [
        "%%writefile train.py\n",
        "# YOUR CODE HERE\n",
        "\"\"\"\n",
        "Trains a PyTorch image classification model using device-agnostic code.\n",
        "\"\"\"\n",
        "\n",
        "import os\n",
        "import torch\n",
        "import data_setup, engine, model_builder, utils\n",
        "import argparse\n",
        "from torchvision import transforms\n",
        "\n",
        "parser = argparse.ArgumentParser(\n",
        "                    prog='Train',\n",
        "                    description='Train Neural Network according to passed parameters',\n",
        "                    epilog='by Alejandro Casanova')\n",
        "\n",
        "parser.add_argument('-e', '--epochs', default=5, help=\"Number of epochs to train the model.\")\n",
        "parser.add_argument('-b', '--batch_size', default=32, help=\"Size of the batches data is divided in.\")\n",
        "parser.add_argument('-u', '--hidden_units', default=10, help=\"Number of hidden units each layer of the model has.\")\n",
        "parser.add_argument('-l', '--learning_rate', default=0.001, help=\"Learning rate for the optimizer.\")\n",
        "\n",
        "args = parser.parse_args()\n",
        "print(args)\n",
        "\n",
        "# Setup hyperparameters\n",
        "NUM_EPOCHS = int(args.epochs)\n",
        "BATCH_SIZE = int(args.batch_size)\n",
        "HIDDEN_UNITS = int(args.hidden_units)\n",
        "LEARNING_RATE = float(args.learning_rate)\n",
        "\n",
        "# Setup directories\n",
        "train_dir = \"data/pizza_steak_sushi/train\"\n",
        "test_dir = \"data/pizza_steak_sushi/test\"\n",
        "\n",
        "# Setup target device\n",
        "device = \"cuda\" if torch.cuda.is_available() else \"cpu\"\n",
        "\n",
        "# Create transforms\n",
        "data_transform = transforms.Compose([\n",
        "  transforms.Resize((64, 64)),\n",
        "  transforms.ToTensor()\n",
        "])\n",
        "\n",
        "# Create DataLoaders with help from data_setup.py\n",
        "train_dataloader, test_dataloader, class_names = data_setup.create_dataloaders(\n",
        "    train_dir=train_dir,\n",
        "    test_dir=test_dir,\n",
        "    transform=data_transform,\n",
        "    batch_size=BATCH_SIZE\n",
        ")\n",
        "\n",
        "# Create model with help from model_builder.py\n",
        "model = model_builder.TinyVGG(\n",
        "    input_shape=3,\n",
        "    hidden_units=HIDDEN_UNITS,\n",
        "    output_shape=len(class_names)\n",
        ").to(device)\n",
        "\n",
        "# Set loss and optimizer\n",
        "loss_fn = torch.nn.CrossEntropyLoss()\n",
        "optimizer = torch.optim.Adam(model.parameters(),\n",
        "                             lr=LEARNING_RATE)\n",
        "\n",
        "# Start training with help from engine.py\n",
        "engine.train(model=model,\n",
        "             train_dataloader=train_dataloader,\n",
        "             test_dataloader=test_dataloader,\n",
        "             loss_fn=loss_fn,\n",
        "             optimizer=optimizer,\n",
        "             epochs=NUM_EPOCHS,\n",
        "             device=device)\n",
        "\n",
        "# Save the model with help from utils.py\n",
        "utils.save_model(model=model,\n",
        "                 target_dir=\"models\",\n",
        "                 model_name=\"05_going_modular_script_mode_tinyvgg_model.pth\")\n"
      ],
      "metadata": {
        "id": "MKNDUp45YaW-",
        "colab": {
          "base_uri": "https://localhost:8080/"
        },
        "outputId": "a29efd19-0b19-46a8-dccd-e1e18dfc8fa5"
      },
      "execution_count": 47,
      "outputs": [
        {
          "output_type": "stream",
          "name": "stdout",
          "text": [
            "Overwriting train.py\n"
          ]
        }
      ]
    },
    {
      "cell_type": "code",
      "source": [
        "# Example running of train.py\n",
        "!python train.py --epochs 10 --batch_size 32 --hidden_units 10 --learning_rate 0.001"
      ],
      "metadata": {
        "id": "LzaJl39lC40N",
        "colab": {
          "base_uri": "https://localhost:8080/"
        },
        "outputId": "0b1ba31d-01e9-482f-e028-7f9dfa6760ea"
      },
      "execution_count": 42,
      "outputs": [
        {
          "output_type": "stream",
          "name": "stdout",
          "text": [
            "Namespace(epochs='10', batch_size='32', hidden_units='10', learning_rate='0.001')\n",
            "  0% 0/10 [00:00<?, ?it/s]Epoch: 1 | train_loss: 1.1115 | train_acc: 0.2734 | test_loss: 1.1094 | test_acc: 0.1979\n",
            " 10% 1/10 [00:02<00:25,  2.81s/it]Epoch: 2 | train_loss: 1.0958 | train_acc: 0.4336 | test_loss: 1.1069 | test_acc: 0.2604\n",
            " 20% 2/10 [00:04<00:16,  2.01s/it]Epoch: 3 | train_loss: 1.0940 | train_acc: 0.3086 | test_loss: 1.1109 | test_acc: 0.2917\n",
            " 30% 3/10 [00:06<00:13,  1.91s/it]Epoch: 4 | train_loss: 1.0763 | train_acc: 0.5195 | test_loss: 1.1310 | test_acc: 0.1979\n",
            " 40% 4/10 [00:08<00:12,  2.05s/it]Epoch: 5 | train_loss: 1.0404 | train_acc: 0.4141 | test_loss: 1.1391 | test_acc: 0.1979\n",
            " 50% 5/10 [00:09<00:09,  1.84s/it]Epoch: 6 | train_loss: 1.0180 | train_acc: 0.4531 | test_loss: 1.1056 | test_acc: 0.2396\n",
            " 60% 6/10 [00:11<00:06,  1.72s/it]Epoch: 7 | train_loss: 1.0269 | train_acc: 0.4023 | test_loss: 1.0866 | test_acc: 0.3220\n",
            " 70% 7/10 [00:12<00:04,  1.64s/it]Epoch: 8 | train_loss: 0.9563 | train_acc: 0.5938 | test_loss: 1.0486 | test_acc: 0.4337\n",
            " 80% 8/10 [00:14<00:03,  1.59s/it]Epoch: 9 | train_loss: 0.9515 | train_acc: 0.6172 | test_loss: 1.0311 | test_acc: 0.4839\n",
            " 90% 9/10 [00:15<00:01,  1.57s/it]Epoch: 10 | train_loss: 0.9579 | train_acc: 0.5000 | test_loss: 1.0144 | test_acc: 0.5350\n",
            "100% 10/10 [00:17<00:00,  1.73s/it]\n",
            "[INFO] Saving model to: models/05_going_modular_script_mode_tinyvgg_model.pth\n"
          ]
        }
      ]
    },
    {
      "cell_type": "markdown",
      "source": [
        "## 3. Create a Python script to predict (such as `predict.py`) on a target image given a file path with a saved model.\n",
        "\n",
        "* For example, you should be able to run the command `python predict.py some_image.jpeg` and have a trained PyTorch model predict on the image and return its prediction.\n",
        "* To see example prediction code, check out the [predicting on a custom image section in notebook 04](https://www.learnpytorch.io/04_pytorch_custom_datasets/#113-putting-custom-image-prediction-together-building-a-function).\n",
        "* You may also have to write code to load in a trained model."
      ],
      "metadata": {
        "id": "P2g6EEYvm-46"
      }
    },
    {
      "cell_type": "code",
      "source": [
        "%%writefile predict.py\n",
        "from typing import List\n",
        "import torchvision\n",
        "from torchvision import transforms\n",
        "import matplotlib.pyplot as plt\n",
        "from model_builder import TinyVGG\n",
        "import torch\n",
        "import argparse\n",
        "import data_setup\n",
        "\n",
        "# Setup target device\n",
        "device = \"cuda\" if torch.cuda.is_available() else \"cpu\"\n",
        "\n",
        "train_dir = \"data/pizza_steak_sushi/train\"\n",
        "test_dir = \"data/pizza_steak_sushi/test\"\n",
        "class_names = data_setup.create_dataloaders(\n",
        "    train_dir=train_dir,\n",
        "    test_dir=test_dir,\n",
        "    transform=None,\n",
        "    batch_size=32\n",
        ")[2]\n",
        "\n",
        "# Create transforms\n",
        "pred_transform = transforms.Compose([\n",
        "  transforms.Resize((64, 64))\n",
        "])\n",
        "\n",
        "# YOUR CODE HERE\n",
        "def pred_and_plot_image(model: torch.nn.Module,\n",
        "                        image_path: str,\n",
        "                        class_names: List[str] = None,\n",
        "                        transform=None,\n",
        "                        device: torch.device = device):\n",
        "    \"\"\"Makes a prediction on a target image and plots the image with its prediction.\"\"\"\n",
        "\n",
        "    # 1. Load in image and convert the tensor values to float32\n",
        "    target_image = torchvision.io.read_image(str(image_path)).type(torch.float32)\n",
        "\n",
        "    # 2. Divide the image pixel values by 255 to get them between [0, 1]\n",
        "    target_image = target_image / 255.\n",
        "\n",
        "    # 3. Transform if necessary\n",
        "    if transform:\n",
        "        target_image = transform(target_image)\n",
        "\n",
        "    # 4. Make sure the model is on the target device\n",
        "    model.to(device)\n",
        "\n",
        "    # 5. Turn on model evaluation mode and inference mode\n",
        "    model.eval()\n",
        "    with torch.inference_mode():\n",
        "        # Add an extra dimension to the image\n",
        "        target_image = target_image.unsqueeze(dim=0)\n",
        "\n",
        "        # Make a prediction on image with an extra dimension and send it to the target device\n",
        "        target_image_pred = model(target_image.to(device))\n",
        "\n",
        "    # 6. Convert logits -> prediction probabilities (using torch.softmax() for multi-class classification)\n",
        "    target_image_pred_probs = torch.softmax(target_image_pred, dim=1)\n",
        "\n",
        "    # 7. Convert prediction probabilities -> prediction labels\n",
        "    target_image_pred_label = torch.argmax(target_image_pred_probs, dim=1)\n",
        "\n",
        "    print(f\"Pred: {class_names[target_image_pred_label.cpu()]} | Prob: {target_image_pred_probs.max().cpu():.3f}\")\n",
        "\n",
        "    # 8. Plot the image alongside the prediction and prediction probability\n",
        "    plt.imshow(target_image.squeeze().permute(1, 2, 0)) # make sure it's the right size for matplotlib\n",
        "    if class_names:\n",
        "        title = f\"Pred: {class_names[target_image_pred_label.cpu()]} | Prob: {target_image_pred_probs.max().cpu():.3f}\"\n",
        "    else:\n",
        "        title = f\"Pred: {target_image_pred_label} | Prob: {target_image_pred_probs.max().cpu():.3f}\"\n",
        "    plt.title(title)\n",
        "    plt.axis(False);\n",
        "\n",
        "\n",
        "parser = argparse.ArgumentParser(\n",
        "                    prog='Predict',\n",
        "                    description='Use a model to predict on an image',\n",
        "                    epilog='by Alejandro Casanova')\n",
        "\n",
        "parser.add_argument('-i', '--image', type=str, default=\"data/pizza_steak_sushi/test/sushi/175783.jpg\", help=\"Image to make prediction on\")\n",
        "parser.add_argument('-m', '--model_path', type=str, default=\"models/05_going_modular_script_mode_tinyvgg_model.pth\", help=\"Model to use\")\n",
        "\n",
        "args = parser.parse_args()\n",
        "print(args)\n",
        "\n",
        "loaded_model = TinyVGG(\n",
        "  input_shape=3,\n",
        "  hidden_units=10,\n",
        "  output_shape=len(class_names)\n",
        ")\n",
        "loaded_model.load_state_dict(torch.load(f=args.model_path))\n",
        "\n",
        "# Pred on our custom image\n",
        "pred_and_plot_image(model=loaded_model,\n",
        "                    image_path=args.image,\n",
        "                    class_names=class_names,\n",
        "                    transform=pred_transform,\n",
        "                    device=device)"
      ],
      "metadata": {
        "id": "HU7W6VZfYawP",
        "colab": {
          "base_uri": "https://localhost:8080/"
        },
        "outputId": "a715efe1-d31b-41d2-dec8-a275dae290d5"
      },
      "execution_count": 65,
      "outputs": [
        {
          "output_type": "stream",
          "name": "stdout",
          "text": [
            "Overwriting predict.py\n"
          ]
        }
      ]
    },
    {
      "cell_type": "code",
      "source": [
        "# Example running of predict.py\n",
        "!python predict.py --image data/pizza_steak_sushi/test/sushi/175783.jpg"
      ],
      "metadata": {
        "id": "Zcvw9sitIn6r",
        "colab": {
          "base_uri": "https://localhost:8080/"
        },
        "outputId": "0ab9a514-420c-4404-b678-85fe274bbad0"
      },
      "execution_count": 66,
      "outputs": [
        {
          "output_type": "stream",
          "name": "stdout",
          "text": [
            "Namespace(image='data/pizza_steak_sushi/test/sushi/175783.jpg', model_path='models/05_going_modular_script_mode_tinyvgg_model.pth')\n",
            "/usr/local/lib/python3.10/dist-packages/torchvision/transforms/functional.py:1603: UserWarning: The default value of the antialias parameter of all the resizing transforms (Resize(), RandomResizedCrop(), etc.) will change from None to True in v0.17, in order to be consistent across the PIL and Tensor backends. To suppress this warning, directly pass antialias=True (recommended, future default), antialias=None (current default, which means False for Tensors and True for PIL), or antialias=False (only works on Tensors - PIL will still use antialiasing). This also applies if you are using the inference transforms from the models weights: update the call to weights.transforms(antialias=True).\n",
            "  warnings.warn(\n",
            "Pred: sushi | Prob: 0.482\n"
          ]
        }
      ]
    }
  ]
}